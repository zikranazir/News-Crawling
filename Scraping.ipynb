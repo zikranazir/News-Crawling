{
  "nbformat": 4,
  "nbformat_minor": 0,
  "metadata": {
    "colab": {
      "name": "Scraping.ipynb",
      "provenance": [],
      "authorship_tag": "ABX9TyNk61GmKoj6L9nAf95O90uQ",
      "include_colab_link": true
    },
    "kernelspec": {
      "name": "python3",
      "display_name": "Python 3"
    },
    "language_info": {
      "name": "python"
    }
  },
  "cells": [
    {
      "cell_type": "markdown",
      "metadata": {
        "id": "view-in-github",
        "colab_type": "text"
      },
      "source": [
        "<a href=\"https://colab.research.google.com/github/zikranazir/News-Crawling/blob/main/Scraping.ipynb\" target=\"_parent\"><img src=\"https://colab.research.google.com/assets/colab-badge.svg\" alt=\"Open In Colab\"/></a>"
      ]
    },
    {
      "cell_type": "code",
      "metadata": {
        "id": "L5pTxcnJ1ly6"
      },
      "source": [
        "# Imports\n",
        "import requests\n",
        "import numpy as np\n",
        "import pandas as pd\n",
        "from bs4 import BeautifulSoup\n",
        "import re\n",
        "import time"
      ],
      "execution_count": 138,
      "outputs": []
    },
    {
      "cell_type": "code",
      "metadata": {
        "id": "tdKrwosD1gi6"
      },
      "source": [
        "# url definition\n",
        "url = \"https://english.elpais.com\""
      ],
      "execution_count": 77,
      "outputs": []
    },
    {
      "cell_type": "code",
      "metadata": {
        "colab": {
          "base_uri": "https://localhost:8080/"
        },
        "id": "wOQ4e4VD18_0",
        "outputId": "b0edd8e9-acc3-4c4b-f0c7-394dd9555f8b"
      },
      "source": [
        "# Request\n",
        "r1 = requests.get(url)\n",
        "print (f'Status GET: {r1.status_code}')\n",
        "\n",
        "# We'll save in coverpage the cover page content\n",
        "coverpage = r1.content\n",
        "\n",
        "# Soup creation\n",
        "soup1 = BeautifulSoup(coverpage, 'html.parser')\n",
        "\n",
        "# News identification\n",
        "coverpage_news = soup1.find_all('h2', class_='c_t'>'PANDORA PAPERS')\n",
        "len(coverpage_news)"
      ],
      "execution_count": 78,
      "outputs": [
        {
          "output_type": "stream",
          "name": "stdout",
          "text": [
            "Status GET: 200\n"
          ]
        },
        {
          "output_type": "execute_result",
          "data": {
            "text/plain": [
              "56"
            ]
          },
          "metadata": {},
          "execution_count": 78
        }
      ]
    },
    {
      "cell_type": "code",
      "metadata": {
        "colab": {
          "base_uri": "https://localhost:8080/"
        },
        "id": "hdgo-wlt1_aN",
        "outputId": "7284eacd-12e4-45c9-aa63-56fc7a7f8257"
      },
      "source": [
        "coverpage_news[15]"
      ],
      "execution_count": 115,
      "outputs": [
        {
          "output_type": "execute_result",
          "data": {
            "text/plain": [
              "<h2 class=\"c_t \"><a href=\"/usa/2021-10-03/what-are-the-pandora-papers-ten-key-points-to-explain-the-investigation-into-tax-havens.html\">What are the Pandora Papers? Ten key points to explain the investigation into tax havens</a></h2>"
            ]
          },
          "metadata": {},
          "execution_count": 115
        }
      ]
    },
    {
      "cell_type": "code",
      "metadata": {
        "id": "Q1OhMYYS2ZcS"
      },
      "source": [
        "number_of_articles = 10"
      ],
      "execution_count": 116,
      "outputs": []
    },
    {
      "cell_type": "code",
      "metadata": {
        "id": "0cvEu_-c6HwO"
      },
      "source": [
        "# Empty lists for content, links and titles\n",
        "news_contents = []\n",
        "list_links = []\n",
        "list_titles = []"
      ],
      "execution_count": 117,
      "outputs": []
    },
    {
      "cell_type": "code",
      "metadata": {
        "id": "Xh_kU2iNAuWu"
      },
      "source": [
        "n=15"
      ],
      "execution_count": 122,
      "outputs": []
    },
    {
      "cell_type": "code",
      "metadata": {
        "id": "JSfjMQrY_Ln5"
      },
      "source": [
        "# Getting the link of the article\n",
        "link = (url) + (coverpage_news[n].find('a')['href'])\n",
        "list_links.append(link)"
      ],
      "execution_count": 123,
      "outputs": []
    },
    {
      "cell_type": "code",
      "metadata": {
        "colab": {
          "base_uri": "https://localhost:8080/",
          "height": 52
        },
        "id": "y_08xDmr_PZI",
        "outputId": "6820604c-ba3e-4874-a9cb-37580000ffda"
      },
      "source": [
        "link"
      ],
      "execution_count": 124,
      "outputs": [
        {
          "output_type": "execute_result",
          "data": {
            "application/vnd.google.colaboratory.intrinsic+json": {
              "type": "string"
            },
            "text/plain": [
              "'https://english.elpais.com/usa/2021-10-03/what-are-the-pandora-papers-ten-key-points-to-explain-the-investigation-into-tax-havens.html'"
            ]
          },
          "metadata": {},
          "execution_count": 124
        }
      ]
    },
    {
      "cell_type": "code",
      "metadata": {
        "id": "FgxacJ-4_Wh8"
      },
      "source": [
        "# Getting the title\n",
        "title = coverpage_news[n].find('a').get_text()\n",
        "list_titles.append(title)"
      ],
      "execution_count": 125,
      "outputs": []
    },
    {
      "cell_type": "code",
      "metadata": {
        "colab": {
          "base_uri": "https://localhost:8080/",
          "height": 35
        },
        "id": "hNzfdEbt_Zoe",
        "outputId": "fbfa3392-e043-4b62-e464-e2eb39f0bef0"
      },
      "source": [
        "title"
      ],
      "execution_count": 126,
      "outputs": [
        {
          "output_type": "execute_result",
          "data": {
            "application/vnd.google.colaboratory.intrinsic+json": {
              "type": "string"
            },
            "text/plain": [
              "'What are the Pandora Papers? Ten key points to explain the investigation into tax havens'"
            ]
          },
          "metadata": {},
          "execution_count": 126
        }
      ]
    },
    {
      "cell_type": "code",
      "metadata": {
        "id": "shhfYGUK_fLZ"
      },
      "source": [
        " # Reading the content (it is divided in paragraphs)\n",
        "article = requests.get(link)\n",
        "article_content = article.content\n",
        "soup_article = BeautifulSoup(article_content, 'html5lib')\n",
        "body = soup_article.find_all('div', class_='a_c clearfix')\n",
        "x = body[0].find_all('p')"
      ],
      "execution_count": 127,
      "outputs": []
    },
    {
      "cell_type": "code",
      "metadata": {
        "colab": {
          "base_uri": "https://localhost:8080/"
        },
        "id": "wbrBECf4CP8L",
        "outputId": "f922167d-1937-4d90-fff7-9dc45ac56e74"
      },
      "source": [
        "len(x)"
      ],
      "execution_count": 131,
      "outputs": [
        {
          "output_type": "execute_result",
          "data": {
            "text/plain": [
              "43"
            ]
          },
          "metadata": {},
          "execution_count": 131
        }
      ]
    },
    {
      "cell_type": "code",
      "metadata": {
        "id": "dBTKuDsKCUvJ"
      },
      "source": [
        "# Unifying the paragraphs\n",
        "list_paragraphs = []\n",
        "for p in np.arange(0, len(x)):\n",
        "    paragraph = x[p].get_text()\n",
        "    list_paragraphs.append(paragraph)\n",
        "    final_article = \" \".join(list_paragraphs)\n",
        "\n",
        "news_contents.append(final_article)"
      ],
      "execution_count": 129,
      "outputs": []
    },
    {
      "cell_type": "code",
      "metadata": {
        "colab": {
          "base_uri": "https://localhost:8080/",
          "height": 154
        },
        "id": "ZyPXzMWZE9_q",
        "outputId": "123b4374-ec37-4c8c-8e4b-6346025fb970"
      },
      "source": [
        "final_article"
      ],
      "execution_count": 132,
      "outputs": [
        {
          "output_type": "execute_result",
          "data": {
            "application/vnd.google.colaboratory.intrinsic+json": {
              "type": "string"
            },
            "text/plain": [
              "'The industry of secret fortunes works in a relatively simple manner. Each owner, lawyer or frontman knows their role and the rules that they need to respect or bypass. And everything works like a Swiss watch. Looked at from outside, the overview can become cloudy. These are the key points to understanding the Pandora Papers, which allow for an analysis of this sector from its very own nerve center. 1. What are the Pandora Papers? The Pandora Papers is the name given to a journalistic investigation based on a major leak of confidential documents from 14 offshore service providers dedicated to the creation of companies in countries such as Panama, the British Virgin Isles and the Bahamas. In Spain, EL PAÍS and television network La Sexta are the partners on this project, which has seen the collaboration of more than 600 journalists from 117 countries under the coordination of the International Consortium of Investigative Journalists (ICIJ). Other media outlets who have taken part in the project, considered to be the biggest journalistic collaboration in history, include Le Monde (France), The Guardian (United Kingdom), The Washington Post (United States), L’Espresso (Italy) and La Nación (Argentina), among others. Over the course of nearly two years, more than 11.9 million files have been analyzed, including text documents, spreadsheets, emails and images. There are certificates of incorporation, lists of shareholders, invoices, passports, travel records… Together, they constitute an unprecedented snapshot of the hidden side of international finance and shed light on the secrets of tax havens and the professionals who act as a bridge to reach these jurisdictions. The leak points to more than 27,000 companies created between 1971 and 2018, and nearly 30,000 of their beneficiaries. Among them, there are 751 companies linked to Spain. 2. Which relevant public figures appear in the Pandora Papers? The investigation reveals the secret assets, covert deals and hidden fortunes of the rich and powerful: more than 330 politicians and people in public office (90 of them European), 15 heads of state in Latin America among current and retired figures, 46 Russian oligarchs, and 133 multi-millionaires from Forbes magazine’s rich list. On the international scene, names of note include the Chilean president, Sebastián Piñera, who hid shares in a mining company, or the former managing director of the International Monetary Fund Dominique Strauss-Kahn, who avoided taxes when working as a consultant. Also present is the king of Jordan, Abdullah II, along with his 30 companies and three mansions in Malibu, and the Czech prime minister, Andrej Babis, who used an offshore network to buy a chateau with a cinema and two swimming pools. Former British Prime Minister Tony Blair and his wife Cherie also appear. They purchased a Victorian building in London valued at $8.8 million (€7.6 million). There are also crime figures such as Raffaele Amato, the Italian Camorra mafia boss who inspired the movie Gomorra, and who was arrested in the Spanish city of Málaga in 2009. There are stars of the fashion and entertainment world such as Claudia Schiffer, Julio Iglesias and Shakira. Among the recognizable faces from the world of sport are Carlo Ancelotti, who is already being investigated by the Spanish tax authorities, and former Barcelona FC manager Pep Guardiola over an account he held in the principality of Andorra. There are more relevant personalities who will be made public over the coming weeks. 3. What is a tax haven? A tax haven is a territory where the creation of trading companies is among the main economic activity, or in some cases the only one. They offer huge fiscal advantages to citizens from other countries who seek to reduce their tax burdens (the taxes associated with the activity of these entities is either zero or a symbolic rate), but they also protect their anonymity, with legal contexts that make it difficult to identify the true beneficiaries of a particular company. A concept that in recent years has become key to identifying the territories that can be considered tax havens is their scant inclination to share information with the authorities from other countries. Even so, there is no global or official list of such jurisdictions, and each country can decide for itself with whom it will sign taxation agreements or share information. These pacts have allowed the Organisation for Economic Co-operation and Development (OECD) to eliminate 30 or so countries from its list of states that do not cooperate on matters of taxation. The Spanish list, for example, dates back to 1991. It initially included 48 states and since then there have only been removals: there are currently 33. A new law against tax fraud, which was approved by the Spanish government this year, is due to rewrite the list of non-cooperative states, and will be updated periodically. In 2015, the European Commission published its own account of 30 countries that it considers to be tax havens. In response, some of these nations presented their “commitment” to collaborating with other jurisdictions, and as a result the list was reduced to 12 non-cooperating countries: American Samoa, Anguilla, Dominica, Fiji, Guam, Palau, Panama, Samoa, Trinidad and Tobago, the US Virgin Islands, Vanuatu and the Seychelles. 4. What is an offshore company? What are they used for? Offshore companies are created in a country that is different to the one in which their beneficiaries reside. They have a clear purpose in the global economy. As Francisco Bonatti, an attorney and consultant on money laundering, explains: “They are necessary a lot of the time for the major flow of capital. That part of the offshore economy is not just legal, but also in an economy such as the current one, which is delocalized and globalized, they are genuinely needed.” The problem with these companies is when they are created in opaque jurisdictions in search of low or zero taxation rates and confidentiality. These companies do not have any genuine activity in the countries where they are registered; they do not need an office nor employees. They are used, generally speaking, to hide and avoid any fiscal or legal responsibilities for the real owner of assets that could be financial, but could also constitute real estate, art works or vehicles, among others. A study published in 2017 estimated that 10% of global GDP was located in offshore companies. 5. Who can open a company in a tax haven, and how is it done? An entire industry has sprung up around the management of the steps needed so that anyone from any part of the world can create their companies in secret. Thanks to the use of these firms, the client manages to avoid any trace of their identity in official documents such as incorporation papers and shareholder lists. Among the documents in the Pandora Papers are some of the biggest offshore service suppliers on a global scale, such as Alemán, Cordero, Galindo y Lee (Alcogal), Trident Trust and Asiaciti. Using their services, someone who has never left Spain could register a company in Hong Kong or the Cayman Islands without even getting off their sofa. To run a more complex company or create a complicated structure it is, however, always necessary to first consult with a law firm or tax consultant in one’s country of residence. 6. Is it legal to have a company in a tax haven? Having a company in a tax haven is legal provided that the assets and income derived from their activity are declared to the authorities where the beneficiary resides ordinarily. In fact, it is normal for major companies who operate in the global market to structure their international presence by locating their subsidiaries in some of these territories to lighten their tax burdens. To sum up, someone who is ordinarily resident in Spain can set up a company in an offshore jurisdiction provided that the Spanish Tax Agency knows of their existence and receives the corresponding levies. 7. If this is legal, why are the Pandora Papers relevant? The problems begin when these companies and their profits are deliberately hidden in these jurisdictions, without their existence being declared to the authorities where the true owner is resident for tax purposes. This is applicable to many of the cases in the Pandora Papers. Under that layer of opacity, flows of illicit funds are hidden, opening the door to bribery, money laundering, tax evasion or the financing of terrorism. According to an estimate by the European Commission, citizens in the EU use different tax evasion vehicles to divert the equivalent of 9.7% of the region’s GDP. This means €46 billion of lost tax revenue every year, the equivalent to eight times the yearly budget of the Spanish Education Ministry. The OECD calculates that at least $11.3 trillion (€10 trillion) is held offshore on a global scale. Thanks to the revelations that have accompanied leaks such as this one, efforts in the fight against tax fraud and money laundering have been strengthened. Regulations have appeared such as one protecting whistleblowers in the European Union, while the exchange of fiscal information between countries has been strengthened. The Pandora Papers are a new snapshot of an industry of secrets that, in spite of everything, continues to enjoy rude health and counts on some very powerful figures among its clients. 8. Which law firms appear? The preferred firm for Spaniards is the Panamanian company Alemán, Cordero, Galindo y Lee (Alcogal). Among its portfolio are at least 253 companies linked to the country. It has offices in a dozen countries, including New Zealand, Uruguay and the United Arab Emirates, among others, and has counted figures such as King Abdullah II of Jordan among its clients. In response to the questions posed by the ICIJ, Alcogal has issued a statement in which it states it meets the legal requisites of the regions where it operates. This is the general position of the other firms that appear in the Pandora Papers. Trident Trust is one of the biggest suppliers of offshore companies in the world and there are estimates that it administers assets with a value of €35 billion. There is more information about the firm than any other in the Pandora Papers, and among its clients is the current Real Madrid soccer club manager, Carlo Ancelotti. The firm benefitted from the fall of Mossack Fonseca after the publication of the so-called Panama Papers. It incorporated nearly 100 clients who transferred their companies from the vilified firm. Despite all of this, the company has said in a statement that it “routinely collaborates with any competent authority who requests information.” Less well known in Europe, but fundamental in Latin America, is OMC, also based in Panama and in charge of the offshore finances of the Chilean president, Sebastián Piñera, among others. The other firms are SFM, which, among others is in charge of the companies of former IMF managing director Dominique Strauss-Khan; Asiaciti Trust, the only one that is headquartered in Asia, in Singapore; All About Offshore (AABOL), based in the Seychelles; Commence BVI, which is more attractive for African clients; Fidelity Management, chosen by the ex-prime minister of Jordan, Abdul Karim Kabariti; Demetrios A Demetriades LLC, from Cyprus and DadLaw, from Malta, the only ones based in Europe; Commonwealth Corporate Services Limited (CCS), CilTrust and Godfrey Law, the three based in Belize; and II Shin, the only Chinese firm in the leak. 9. What differences and similarities are there with the Panama Papers? Both the Pandora Papers and the Panama Papers were projects led by the International Consortium of Investigative Journalists (ICIJ). Despite five years having passed since the publication of the latter, both share many characteristics. The documents associated with both leaks originate from offshore providers. In fact, the Panama Papers came from the Mossack Fonseca law firm, which was based in that Central American country. The volume of both leaks is similar, although the Pandora Papers contain around 400,000 more files and their 2.94 terabytes of data are just slightly more than the 2.6 terabytes from its predecessor. What is unprecedented is the level of detail with which the new leak shows the relationships between those who seek benefits from the creation of companies in tax havens and the wide range of professionals who help with this objective. It is not just one firm, but rather 14. And the more firms there are, the more clients: the Pandora Papers contain information about more than 29,000 company owners, which is double what could be extracted five years ago. 10. Has anything changed since the Panama Papers? The Panama Papers represented a before and after in terms of how offshore companies are viewed. That has been confirmed by the lawyers who work in the sector, and also the files from the new investigation: after 2016, Trident Trust incorporated nearly a hundred clients who opted to transfer their companies from Mossack Fonseca to a new supplier in order to avoid exposure and pressure from the authorities. In Spain, a year after the publication of this information, the country’s Anti-Money Laundering Supervisory Authority (Sepblac) was able to access the information from 209 Panamanian companies that had previously been under lock and key, including those that allowed for the diversion of funds in the so-called “Defex case,” when the Spanish state-owned firm was hauled up over bribes for arms contracts. The Spanish Tax Agency was able to recover at least €140 million after auditing 244 taxpayers, and on a global scale at least €1.2 billion in taxes were recovered. What’s more, the authorities in Panama – under global pressure after the scandal – agreed to sign agreements to share information with a number of European countries. These agreements facilitated the almost-automatic sharing of banking and tax data between countries, an instrument that allows tax inspectors to enjoy better access to documents that previously could have taken years to get hold of. English version by Simon Hunter.'"
            ]
          },
          "metadata": {},
          "execution_count": 132
        }
      ]
    },
    {
      "cell_type": "code",
      "metadata": {
        "id": "IWdnTfp1Cdyb"
      },
      "source": [
        "# df_features\n",
        "df_features = pd.DataFrame(\n",
        "     {'Article Content': news_contents\n",
        "    })"
      ],
      "execution_count": 133,
      "outputs": []
    },
    {
      "cell_type": "code",
      "metadata": {
        "colab": {
          "base_uri": "https://localhost:8080/",
          "height": 80
        },
        "id": "XC9_5BsPCodM",
        "outputId": "6d46c65d-f5dc-423e-8c90-7dc3fa4c25eb"
      },
      "source": [
        "df_features"
      ],
      "execution_count": 134,
      "outputs": [
        {
          "output_type": "execute_result",
          "data": {
            "text/html": [
              "<div>\n",
              "<style scoped>\n",
              "    .dataframe tbody tr th:only-of-type {\n",
              "        vertical-align: middle;\n",
              "    }\n",
              "\n",
              "    .dataframe tbody tr th {\n",
              "        vertical-align: top;\n",
              "    }\n",
              "\n",
              "    .dataframe thead th {\n",
              "        text-align: right;\n",
              "    }\n",
              "</style>\n",
              "<table border=\"1\" class=\"dataframe\">\n",
              "  <thead>\n",
              "    <tr style=\"text-align: right;\">\n",
              "      <th></th>\n",
              "      <th>Article Content</th>\n",
              "    </tr>\n",
              "  </thead>\n",
              "  <tbody>\n",
              "    <tr>\n",
              "      <th>0</th>\n",
              "      <td>The industry of secret fortunes works in a rel...</td>\n",
              "    </tr>\n",
              "  </tbody>\n",
              "</table>\n",
              "</div>"
            ],
            "text/plain": [
              "                                     Article Content\n",
              "0  The industry of secret fortunes works in a rel..."
            ]
          },
          "metadata": {},
          "execution_count": 134
        }
      ]
    },
    {
      "cell_type": "code",
      "metadata": {
        "id": "4Guh0r2k2hHh"
      },
      "source": [
        "# df_info\n",
        "df_info = pd.DataFrame(\n",
        "     { 'Article Title': list_titles,\n",
        "      'Article Link': list_links \n",
        "    })"
      ],
      "execution_count": 135,
      "outputs": []
    },
    {
      "cell_type": "code",
      "metadata": {
        "id": "0PyRXlS83HI5",
        "colab": {
          "base_uri": "https://localhost:8080/",
          "height": 111
        },
        "outputId": "c8e35b1b-b9d8-4f1b-a3fa-10e6d16eeeba"
      },
      "source": [
        "df_info"
      ],
      "execution_count": 136,
      "outputs": [
        {
          "output_type": "execute_result",
          "data": {
            "text/html": [
              "<div>\n",
              "<style scoped>\n",
              "    .dataframe tbody tr th:only-of-type {\n",
              "        vertical-align: middle;\n",
              "    }\n",
              "\n",
              "    .dataframe tbody tr th {\n",
              "        vertical-align: top;\n",
              "    }\n",
              "\n",
              "    .dataframe thead th {\n",
              "        text-align: right;\n",
              "    }\n",
              "</style>\n",
              "<table border=\"1\" class=\"dataframe\">\n",
              "  <thead>\n",
              "    <tr style=\"text-align: right;\">\n",
              "      <th></th>\n",
              "      <th>Article Title</th>\n",
              "      <th>Article Link</th>\n",
              "    </tr>\n",
              "  </thead>\n",
              "  <tbody>\n",
              "    <tr>\n",
              "      <th>0</th>\n",
              "      <td>Spanish government drafts ambitious housing bi...</td>\n",
              "      <td>https://english.elpais.com/economy-and-busines...</td>\n",
              "    </tr>\n",
              "    <tr>\n",
              "      <th>1</th>\n",
              "      <td>What are the Pandora Papers? Ten key points to...</td>\n",
              "      <td>https://english.elpais.com/usa/2021-10-03/what...</td>\n",
              "    </tr>\n",
              "  </tbody>\n",
              "</table>\n",
              "</div>"
            ],
            "text/plain": [
              "                                       Article Title                                       Article Link\n",
              "0  Spanish government drafts ambitious housing bi...  https://english.elpais.com/economy-and-busines...\n",
              "1  What are the Pandora Papers? Ten key points to...  https://english.elpais.com/usa/2021-10-03/what..."
            ]
          },
          "metadata": {},
          "execution_count": 136
        }
      ]
    },
    {
      "cell_type": "code",
      "metadata": {
        "colab": {
          "base_uri": "https://localhost:8080/"
        },
        "id": "kBWVtoNWDGW7",
        "outputId": "d59704b6-2263-4ee6-ca64-cf1009f9a287"
      },
      "source": [
        "df_features.to_csv"
      ],
      "execution_count": 137,
      "outputs": [
        {
          "output_type": "execute_result",
          "data": {
            "text/plain": [
              "<bound method NDFrame.to_csv of                                      Article Content\n",
              "0  The industry of secret fortunes works in a rel...>"
            ]
          },
          "metadata": {},
          "execution_count": 137
        }
      ]
    }
  ]
}